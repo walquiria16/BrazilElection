{
  "nbformat": 4,
  "nbformat_minor": 0,
  "metadata": {
    "colab": {
      "provenance": [],
      "machine_shape": "hm",
      "include_colab_link": true
    },
    "kernelspec": {
      "name": "python3",
      "display_name": "Python 3"
    }
  },
  "cells": [
    {
      "cell_type": "markdown",
      "metadata": {
        "id": "view-in-github",
        "colab_type": "text"
      },
      "source": [
        "<a href=\"https://colab.research.google.com/github/walquiria16/BrazilElection/blob/main/valohai_reddit_example.ipynb\" target=\"_parent\"><img src=\"https://colab.research.google.com/assets/colab-badge.svg\" alt=\"Open In Colab\"/></a>"
      ]
    },
    {
      "cell_type": "markdown",
      "metadata": {
        "id": "BD04lGJ-cknD"
      },
      "source": [
        "# Get posts and predictions data from S3"
      ]
    },
    {
      "cell_type": "code",
      "metadata": {
        "id": "8Ff3PZWQSRtE"
      },
      "source": [
        "from datetime import datetime, timedelta\n",
        "\n",
        "import pandas as pd\n",
        "import matplotlib.pyplot as plt\n",
        "import seaborn as sns\n",
        "\n",
        "from sklearn.metrics import f1_score, classification_report\n",
        "\n",
        "sns.set_style(\"dark\")\n",
        "\n",
        "REDDIT_S3_PATH = 'https://valohai-fasttext-example.s3.eu-west-3.amazonaws.com/reddit/'\n",
        "\n",
        "posts_df = pd.read_csv(REDDIT_S3_PATH + 'reddit_posts_4M.csv')\n",
        "predictions_df = pd.read_csv(REDDIT_S3_PATH + 'test_predictions.csv')\n",
        "\n",
        "posts_df['date'] = posts_df['created_utc'].apply(datetime.fromtimestamp)"
      ],
      "execution_count": null,
      "outputs": []
    },
    {
      "cell_type": "code",
      "metadata": {
        "id": "J1Puo339b4wY",
        "outputId": "efa491d8-bbe0-472a-a0ea-a3ee96e0805c",
        "colab": {
          "base_uri": "https://localhost:8080/",
          "height": 204
        }
      },
      "source": [
        "posts_df.sample(5).fillna('')[['id', 'title', 'selftext', 'date', 'subreddit_name']]"
      ],
      "execution_count": null,
      "outputs": [
        {
          "output_type": "execute_result",
          "data": {
            "text/html": [
              "<div>\n",
              "<style scoped>\n",
              "    .dataframe tbody tr th:only-of-type {\n",
              "        vertical-align: middle;\n",
              "    }\n",
              "\n",
              "    .dataframe tbody tr th {\n",
              "        vertical-align: top;\n",
              "    }\n",
              "\n",
              "    .dataframe thead th {\n",
              "        text-align: right;\n",
              "    }\n",
              "</style>\n",
              "<table border=\"1\" class=\"dataframe\">\n",
              "  <thead>\n",
              "    <tr style=\"text-align: right;\">\n",
              "      <th></th>\n",
              "      <th>id</th>\n",
              "      <th>title</th>\n",
              "      <th>selftext</th>\n",
              "      <th>date</th>\n",
              "      <th>subreddit_name</th>\n",
              "    </tr>\n",
              "  </thead>\n",
              "  <tbody>\n",
              "    <tr>\n",
              "      <th>2879836</th>\n",
              "      <td>ff6qli</td>\n",
              "      <td>Traffic Flow crossing one of four major crossi...</td>\n",
              "      <td></td>\n",
              "      <td>2020-03-08 03:28:29</td>\n",
              "      <td>CitiesSkylines</td>\n",
              "    </tr>\n",
              "    <tr>\n",
              "      <th>2359190</th>\n",
              "      <td>f5vj46</td>\n",
              "      <td>People in Oregon to need to read this, we have...</td>\n",
              "      <td></td>\n",
              "      <td>2020-02-18 17:41:29</td>\n",
              "      <td>progun</td>\n",
              "    </tr>\n",
              "    <tr>\n",
              "      <th>275280</th>\n",
              "      <td>ey2lat</td>\n",
              "      <td>Taiwan Foreign Affairs Minister going after th...</td>\n",
              "      <td></td>\n",
              "      <td>2020-02-03 06:11:22</td>\n",
              "      <td>taiwan</td>\n",
              "    </tr>\n",
              "    <tr>\n",
              "      <th>512666</th>\n",
              "      <td>eyp7w5</td>\n",
              "      <td>Sea water jammed in sinuses for days after surf</td>\n",
              "      <td>Does anyone ever get it after surfing that all...</td>\n",
              "      <td>2020-02-04 12:18:44</td>\n",
              "      <td>surfing</td>\n",
              "    </tr>\n",
              "    <tr>\n",
              "      <th>1314832</th>\n",
              "      <td>elzxqg</td>\n",
              "      <td>Homeless man trespassed and stole tons of stuf...</td>\n",
              "      <td></td>\n",
              "      <td>2020-01-08 22:18:32</td>\n",
              "      <td>Brunei</td>\n",
              "    </tr>\n",
              "  </tbody>\n",
              "</table>\n",
              "</div>"
            ],
            "text/plain": [
              "             id  ...  subreddit_name\n",
              "2879836  ff6qli  ...  CitiesSkylines\n",
              "2359190  f5vj46  ...          progun\n",
              "275280   ey2lat  ...          taiwan\n",
              "512666   eyp7w5  ...         surfing\n",
              "1314832  elzxqg  ...          Brunei\n",
              "\n",
              "[5 rows x 5 columns]"
            ]
          },
          "metadata": {
            "tags": []
          },
          "execution_count": 3
        }
      ]
    },
    {
      "cell_type": "code",
      "metadata": {
        "id": "hLp9gxqKc-0I",
        "outputId": "f9a7c040-5add-4dfa-c3b0-a0bc3b855cc1",
        "colab": {
          "base_uri": "https://localhost:8080/",
          "height": 581
        }
      },
      "source": [
        "predictions_df.head()"
      ],
      "execution_count": null,
      "outputs": [
        {
          "output_type": "execute_result",
          "data": {
            "text/html": [
              "<div>\n",
              "<style scoped>\n",
              "    .dataframe tbody tr th:only-of-type {\n",
              "        vertical-align: middle;\n",
              "    }\n",
              "\n",
              "    .dataframe tbody tr th {\n",
              "        vertical-align: top;\n",
              "    }\n",
              "\n",
              "    .dataframe thead th {\n",
              "        text-align: right;\n",
              "    }\n",
              "</style>\n",
              "<table border=\"1\" class=\"dataframe\">\n",
              "  <thead>\n",
              "    <tr style=\"text-align: right;\">\n",
              "      <th></th>\n",
              "      <th>text</th>\n",
              "      <th>label</th>\n",
              "      <th>label@1</th>\n",
              "      <th>label@2</th>\n",
              "      <th>label@3</th>\n",
              "      <th>label@4</th>\n",
              "      <th>label@5</th>\n",
              "      <th>label@6</th>\n",
              "      <th>label@7</th>\n",
              "      <th>label@8</th>\n",
              "      <th>label@9</th>\n",
              "      <th>label@10</th>\n",
              "      <th>label@11</th>\n",
              "      <th>label@12</th>\n",
              "      <th>label@13</th>\n",
              "      <th>label@14</th>\n",
              "      <th>label@15</th>\n",
              "      <th>label@16</th>\n",
              "      <th>label@17</th>\n",
              "      <th>label@18</th>\n",
              "      <th>label@19</th>\n",
              "      <th>label@20</th>\n",
              "      <th>p@1</th>\n",
              "      <th>p@2</th>\n",
              "      <th>p@3</th>\n",
              "      <th>p@4</th>\n",
              "      <th>p@5</th>\n",
              "      <th>p@6</th>\n",
              "      <th>p@7</th>\n",
              "      <th>p@8</th>\n",
              "      <th>p@9</th>\n",
              "      <th>p@10</th>\n",
              "      <th>p@11</th>\n",
              "      <th>p@12</th>\n",
              "      <th>p@13</th>\n",
              "      <th>p@14</th>\n",
              "      <th>p@15</th>\n",
              "      <th>p@16</th>\n",
              "      <th>p@17</th>\n",
              "      <th>p@18</th>\n",
              "      <th>p@19</th>\n",
              "      <th>p@20</th>\n",
              "      <th>error</th>\n",
              "    </tr>\n",
              "  </thead>\n",
              "  <tbody>\n",
              "    <tr>\n",
              "      <th>0</th>\n",
              "      <td>eternally doom to prrs mk eknowoo  cc amb amre...</td>\n",
              "      <td>HFY</td>\n",
              "      <td>MachineLearning</td>\n",
              "      <td>amateurradio</td>\n",
              "      <td>nasa</td>\n",
              "      <td>ffxiv</td>\n",
              "      <td>labrats</td>\n",
              "      <td>AskNetsec</td>\n",
              "      <td>stobuilds</td>\n",
              "      <td>gasmasks</td>\n",
              "      <td>Mcat</td>\n",
              "      <td>IndiaSpeaks</td>\n",
              "      <td>statistics</td>\n",
              "      <td>chernobyl</td>\n",
              "      <td>space</td>\n",
              "      <td>belgium</td>\n",
              "      <td>actuary</td>\n",
              "      <td>india</td>\n",
              "      <td>chemistry</td>\n",
              "      <td>archlinux</td>\n",
              "      <td>bioinformatics</td>\n",
              "      <td>poland</td>\n",
              "      <td>0.022726</td>\n",
              "      <td>0.011084</td>\n",
              "      <td>0.009955</td>\n",
              "      <td>0.009334</td>\n",
              "      <td>0.009090</td>\n",
              "      <td>0.008487</td>\n",
              "      <td>0.007212</td>\n",
              "      <td>0.006198</td>\n",
              "      <td>0.005829</td>\n",
              "      <td>0.005780</td>\n",
              "      <td>0.005611</td>\n",
              "      <td>0.005451</td>\n",
              "      <td>0.005215</td>\n",
              "      <td>0.004942</td>\n",
              "      <td>0.004885</td>\n",
              "      <td>0.004804</td>\n",
              "      <td>0.004771</td>\n",
              "      <td>0.004742</td>\n",
              "      <td>0.004734</td>\n",
              "      <td>0.004671</td>\n",
              "      <td>True</td>\n",
              "    </tr>\n",
              "    <tr>\n",
              "      <th>1</th>\n",
              "      <td>best tacos in buffalo so who has the best taco...</td>\n",
              "      <td>Buffalo</td>\n",
              "      <td>Buffalo</td>\n",
              "      <td>Rochester</td>\n",
              "      <td>LasVegas</td>\n",
              "      <td>vegas</td>\n",
              "      <td>fastfood</td>\n",
              "      <td>tacobell</td>\n",
              "      <td>PeakyBlinders</td>\n",
              "      <td>watercooling</td>\n",
              "      <td>BlackClover</td>\n",
              "      <td>europe</td>\n",
              "      <td>egg_irl</td>\n",
              "      <td>Glocks</td>\n",
              "      <td>Cornell</td>\n",
              "      <td>SmashBrosUltimate</td>\n",
              "      <td>Colombia</td>\n",
              "      <td>COMPLETEANARCHY</td>\n",
              "      <td>sjain_guides</td>\n",
              "      <td>motorsportsstreams</td>\n",
              "      <td>FREEMEDIAHECKYEAH</td>\n",
              "      <td>cursedimages</td>\n",
              "      <td>1.000010</td>\n",
              "      <td>0.000010</td>\n",
              "      <td>0.000010</td>\n",
              "      <td>0.000010</td>\n",
              "      <td>0.000010</td>\n",
              "      <td>0.000010</td>\n",
              "      <td>0.000010</td>\n",
              "      <td>0.000010</td>\n",
              "      <td>0.000010</td>\n",
              "      <td>0.000010</td>\n",
              "      <td>0.000010</td>\n",
              "      <td>0.000010</td>\n",
              "      <td>0.000010</td>\n",
              "      <td>0.000010</td>\n",
              "      <td>0.000010</td>\n",
              "      <td>0.000010</td>\n",
              "      <td>0.000010</td>\n",
              "      <td>0.000010</td>\n",
              "      <td>0.000010</td>\n",
              "      <td>0.000010</td>\n",
              "      <td>False</td>\n",
              "    </tr>\n",
              "    <tr>\n",
              "      <th>2</th>\n",
              "      <td>ive seen it all at this point ive dealt with a...</td>\n",
              "      <td>dbfz</td>\n",
              "      <td>dragonballfighterz</td>\n",
              "      <td>dbfz</td>\n",
              "      <td>BobsTavern</td>\n",
              "      <td>learndota2</td>\n",
              "      <td>BnHAOnesJustice</td>\n",
              "      <td>OverwatchUniversity</td>\n",
              "      <td>jumpforce</td>\n",
              "      <td>heroesofthestorm</td>\n",
              "      <td>EASportsUFC</td>\n",
              "      <td>CrazyHand</td>\n",
              "      <td>MLBTheShow</td>\n",
              "      <td>FinalFantasyXII</td>\n",
              "      <td>DragonsDogma</td>\n",
              "      <td>Overwatch</td>\n",
              "      <td>GranblueFantasyVersus</td>\n",
              "      <td>INJUSTICE</td>\n",
              "      <td>DivinityOriginalSin</td>\n",
              "      <td>SoulCalibur</td>\n",
              "      <td>summonerschool</td>\n",
              "      <td>CompetitiveForHonor</td>\n",
              "      <td>0.072894</td>\n",
              "      <td>0.058824</td>\n",
              "      <td>0.044579</td>\n",
              "      <td>0.033376</td>\n",
              "      <td>0.023099</td>\n",
              "      <td>0.022649</td>\n",
              "      <td>0.021327</td>\n",
              "      <td>0.020386</td>\n",
              "      <td>0.017889</td>\n",
              "      <td>0.016961</td>\n",
              "      <td>0.016598</td>\n",
              "      <td>0.015636</td>\n",
              "      <td>0.012724</td>\n",
              "      <td>0.012412</td>\n",
              "      <td>0.011027</td>\n",
              "      <td>0.010969</td>\n",
              "      <td>0.010765</td>\n",
              "      <td>0.010226</td>\n",
              "      <td>0.010111</td>\n",
              "      <td>0.009363</td>\n",
              "      <td>True</td>\n",
              "    </tr>\n",
              "    <tr>\n",
              "      <th>3</th>\n",
              "      <td>series 6 has begun</td>\n",
              "      <td>PeakyBlinders</td>\n",
              "      <td>smoking</td>\n",
              "      <td>Portal</td>\n",
              "      <td>billsimmons</td>\n",
              "      <td>704nascarheat</td>\n",
              "      <td>originalxbox</td>\n",
              "      <td>cade</td>\n",
              "      <td>Rogers</td>\n",
              "      <td>Rockband</td>\n",
              "      <td>litrpg</td>\n",
              "      <td>saskatoon</td>\n",
              "      <td>NASCAR</td>\n",
              "      <td>breakingbad</td>\n",
              "      <td>barstoolsports</td>\n",
              "      <td>HaggardGarage</td>\n",
              "      <td>hotones</td>\n",
              "      <td>Arcade1Up</td>\n",
              "      <td>swrpg</td>\n",
              "      <td>northernlion</td>\n",
              "      <td>JoeRogan</td>\n",
              "      <td>thefighterandthekid</td>\n",
              "      <td>0.631049</td>\n",
              "      <td>0.250428</td>\n",
              "      <td>0.037622</td>\n",
              "      <td>0.016415</td>\n",
              "      <td>0.008900</td>\n",
              "      <td>0.006992</td>\n",
              "      <td>0.005824</td>\n",
              "      <td>0.005611</td>\n",
              "      <td>0.004123</td>\n",
              "      <td>0.003541</td>\n",
              "      <td>0.003498</td>\n",
              "      <td>0.002803</td>\n",
              "      <td>0.002094</td>\n",
              "      <td>0.001903</td>\n",
              "      <td>0.001757</td>\n",
              "      <td>0.001557</td>\n",
              "      <td>0.001426</td>\n",
              "      <td>0.001295</td>\n",
              "      <td>0.000997</td>\n",
              "      <td>0.000755</td>\n",
              "      <td>True</td>\n",
              "    </tr>\n",
              "    <tr>\n",
              "      <th>4</th>\n",
              "      <td>gonna tell my kids this was kai anderson</td>\n",
              "      <td>AmericanHorrorStory</td>\n",
              "      <td>AmericanHorrorStory</td>\n",
              "      <td>haikyuu</td>\n",
              "      <td>TheVampireDiaries</td>\n",
              "      <td>volleyball</td>\n",
              "      <td>triplej</td>\n",
              "      <td>YMS</td>\n",
              "      <td>LPOTL</td>\n",
              "      <td>KingOfTheHill</td>\n",
              "      <td>Grapplerbaki</td>\n",
              "      <td>fantanoforever</td>\n",
              "      <td>BeachCity</td>\n",
              "      <td>loltyler1</td>\n",
              "      <td>funhaus</td>\n",
              "      <td>WrestleWithThePlot</td>\n",
              "      <td>attackontitan</td>\n",
              "      <td>SequelMemes</td>\n",
              "      <td>StarWarsCantina</td>\n",
              "      <td>Kengan_Ashura</td>\n",
              "      <td>TheOriginals</td>\n",
              "      <td>Nirvana</td>\n",
              "      <td>0.867881</td>\n",
              "      <td>0.073647</td>\n",
              "      <td>0.017175</td>\n",
              "      <td>0.009444</td>\n",
              "      <td>0.009388</td>\n",
              "      <td>0.007013</td>\n",
              "      <td>0.002273</td>\n",
              "      <td>0.002222</td>\n",
              "      <td>0.001704</td>\n",
              "      <td>0.001277</td>\n",
              "      <td>0.000708</td>\n",
              "      <td>0.000665</td>\n",
              "      <td>0.000628</td>\n",
              "      <td>0.000430</td>\n",
              "      <td>0.000407</td>\n",
              "      <td>0.000372</td>\n",
              "      <td>0.000309</td>\n",
              "      <td>0.000282</td>\n",
              "      <td>0.000201</td>\n",
              "      <td>0.000167</td>\n",
              "      <td>False</td>\n",
              "    </tr>\n",
              "  </tbody>\n",
              "</table>\n",
              "</div>"
            ],
            "text/plain": [
              "                                                text  ...  error\n",
              "0  eternally doom to prrs mk eknowoo  cc amb amre...  ...   True\n",
              "1  best tacos in buffalo so who has the best taco...  ...  False\n",
              "2  ive seen it all at this point ive dealt with a...  ...   True\n",
              "3                                 series 6 has begun  ...   True\n",
              "4           gonna tell my kids this was kai anderson  ...  False\n",
              "\n",
              "[5 rows x 43 columns]"
            ]
          },
          "metadata": {
            "tags": []
          },
          "execution_count": 4
        }
      ]
    },
    {
      "cell_type": "markdown",
      "metadata": {
        "id": "Y5JXzP4OhCwz"
      },
      "source": [
        "# Explore posts distribution"
      ]
    },
    {
      "cell_type": "code",
      "metadata": {
        "id": "Hp2ME4wu04Rd",
        "outputId": "6b62718d-0caf-4f4d-a1d0-fe8c717dca5d",
        "colab": {
          "base_uri": "https://localhost:8080/",
          "height": 349
        }
      },
      "source": [
        "posts_df[posts_df['date'] > datetime.now() - timedelta(days=700)].groupby(\n",
        "    [posts_df[\"date\"].dt.year, posts_df[\"date\"].dt.month]\n",
        "  ).id.count().plot(kind=\"bar\")"
      ],
      "execution_count": null,
      "outputs": [
        {
          "output_type": "execute_result",
          "data": {
            "text/plain": [
              "<matplotlib.axes._subplots.AxesSubplot at 0x7fa959536400>"
            ]
          },
          "metadata": {
            "tags": []
          },
          "execution_count": 5
        },
        {
          "output_type": "display_data",
          "data": {
            "image/png": "[encoded data removed]",
            "text/plain": [
              "<Figure size 432x288 with 1 Axes>"
            ]
          },
          "metadata": {
            "tags": []
          }
        }
      ]
    },
    {
      "cell_type": "code",
      "metadata": {
        "id": "e6ADQcTRtz34",
        "outputId": "2a5dd598-8ffa-441b-ac28-c23c6322b6e1",
        "colab": {
          "base_uri": "https://localhost:8080/",
          "height": 34
        }
      },
      "source": [
        "posts_df['date'].min(), posts_df['date'].max()"
      ],
      "execution_count": null,
      "outputs": [
        {
          "output_type": "execute_result",
          "data": {
            "text/plain": [
              "(Timestamp('2007-06-05 17:45:00'), Timestamp('2020-03-17 17:09:23'))"
            ]
          },
          "metadata": {
            "tags": []
          },
          "execution_count": 6
        }
      ]
    },
    {
      "cell_type": "code",
      "metadata": {
        "id": "rxPvwbjufI82",
        "outputId": "14a5a806-c5d5-4a96-9454-5c3ed96a308b",
        "colab": {
          "base_uri": "https://localhost:8080/",
          "height": 80
        }
      },
      "source": [
        "posts_df.groupby(\n",
        "    [posts_df[\"date\"].dt.year]\n",
        "  ).id.count().reset_index(name='count').set_index('date').transpose()"
      ],
      "execution_count": null,
      "outputs": [
        {
          "output_type": "execute_result",
          "data": {
            "text/html": [
              "<div>\n",
              "<style scoped>\n",
              "    .dataframe tbody tr th:only-of-type {\n",
              "        vertical-align: middle;\n",
              "    }\n",
              "\n",
              "    .dataframe tbody tr th {\n",
              "        vertical-align: top;\n",
              "    }\n",
              "\n",
              "    .dataframe thead th {\n",
              "        text-align: right;\n",
              "    }\n",
              "</style>\n",
              "<table border=\"1\" class=\"dataframe\">\n",
              "  <thead>\n",
              "    <tr style=\"text-align: right;\">\n",
              "      <th>date</th>\n",
              "      <th>2007</th>\n",
              "      <th>2008</th>\n",
              "      <th>2009</th>\n",
              "      <th>2010</th>\n",
              "      <th>2011</th>\n",
              "      <th>2012</th>\n",
              "      <th>2013</th>\n",
              "      <th>2014</th>\n",
              "      <th>2015</th>\n",
              "      <th>2016</th>\n",
              "      <th>2017</th>\n",
              "      <th>2018</th>\n",
              "      <th>2019</th>\n",
              "      <th>2020</th>\n",
              "    </tr>\n",
              "  </thead>\n",
              "  <tbody>\n",
              "    <tr>\n",
              "      <th>count</th>\n",
              "      <td>19</td>\n",
              "      <td>2</td>\n",
              "      <td>8</td>\n",
              "      <td>37</td>\n",
              "      <td>496</td>\n",
              "      <td>304</td>\n",
              "      <td>497</td>\n",
              "      <td>1619</td>\n",
              "      <td>1332</td>\n",
              "      <td>4365</td>\n",
              "      <td>9292</td>\n",
              "      <td>34102</td>\n",
              "      <td>603337</td>\n",
              "      <td>3319746</td>\n",
              "    </tr>\n",
              "  </tbody>\n",
              "</table>\n",
              "</div>"
            ],
            "text/plain": [
              "date   2007  2008  2009  2010  2011  ...  2016  2017   2018    2019     2020\n",
              "count    19     2     8    37   496  ...  4365  9292  34102  603337  3319746\n",
              "\n",
              "[1 rows x 14 columns]"
            ]
          },
          "metadata": {
            "tags": []
          },
          "execution_count": 7
        }
      ]
    },
    {
      "cell_type": "code",
      "metadata": {
        "id": "GUTgcYfArlYz",
        "outputId": "b1ed8bc7-30f2-4522-f0e0-a568a021812a",
        "colab": {
          "base_uri": "https://localhost:8080/",
          "height": 162
        }
      },
      "source": [
        "df = posts_df[posts_df['date'] > datetime(2020, 1, 1, 0, 0)].groupby(\n",
        "    [posts_df[\"date\"].dt.year, posts_df[\"date\"].dt.month, posts_df[\"date\"].dt.day]\n",
        ").id.count()\n",
        "\n",
        "df.index.names = ['year', 'month', 'day']\n",
        "\n",
        "df.reset_index(name='count').set_index(['year', 'month', 'day']).transpose()"
      ],
      "execution_count": null,
      "outputs": [
        {
          "output_type": "execute_result",
          "data": {
            "text/html": [
              "<div>\n",
              "<style scoped>\n",
              "    .dataframe tbody tr th:only-of-type {\n",
              "        vertical-align: middle;\n",
              "    }\n",
              "\n",
              "    .dataframe tbody tr th {\n",
              "        vertical-align: top;\n",
              "    }\n",
              "\n",
              "    .dataframe thead tr th {\n",
              "        text-align: left;\n",
              "    }\n",
              "</style>\n",
              "<table border=\"1\" class=\"dataframe\">\n",
              "  <thead>\n",
              "    <tr>\n",
              "      <th>year</th>\n",
              "      <th colspan=\"77\" halign=\"left\">2020</th>\n",
              "    </tr>\n",
              "    <tr>\n",
              "      <th>month</th>\n",
              "      <th colspan=\"31\" halign=\"left\">1</th>\n",
              "      <th colspan=\"29\" halign=\"left\">2</th>\n",
              "      <th colspan=\"17\" halign=\"left\">3</th>\n",
              "    </tr>\n",
              "    <tr>\n",
              "      <th>day</th>\n",
              "      <th>1</th>\n",
              "      <th>2</th>\n",
              "      <th>3</th>\n",
              "      <th>4</th>\n",
              "      <th>5</th>\n",
              "      <th>6</th>\n",
              "      <th>7</th>\n",
              "      <th>8</th>\n",
              "      <th>9</th>\n",
              "      <th>10</th>\n",
              "      <th>11</th>\n",
              "      <th>12</th>\n",
              "      <th>13</th>\n",
              "      <th>14</th>\n",
              "      <th>15</th>\n",
              "      <th>16</th>\n",
              "      <th>17</th>\n",
              "      <th>18</th>\n",
              "      <th>19</th>\n",
              "      <th>20</th>\n",
              "      <th>21</th>\n",
              "      <th>22</th>\n",
              "      <th>23</th>\n",
              "      <th>24</th>\n",
              "      <th>25</th>\n",
              "      <th>26</th>\n",
              "      <th>27</th>\n",
              "      <th>28</th>\n",
              "      <th>29</th>\n",
              "      <th>30</th>\n",
              "      <th>31</th>\n",
              "      <th>1</th>\n",
              "      <th>2</th>\n",
              "      <th>3</th>\n",
              "      <th>4</th>\n",
              "      <th>5</th>\n",
              "      <th>6</th>\n",
              "      <th>7</th>\n",
              "      <th>8</th>\n",
              "      <th>9</th>\n",
              "      <th>10</th>\n",
              "      <th>11</th>\n",
              "      <th>12</th>\n",
              "      <th>13</th>\n",
              "      <th>14</th>\n",
              "      <th>15</th>\n",
              "      <th>16</th>\n",
              "      <th>17</th>\n",
              "      <th>18</th>\n",
              "      <th>19</th>\n",
              "      <th>20</th>\n",
              "      <th>21</th>\n",
              "      <th>22</th>\n",
              "      <th>23</th>\n",
              "      <th>24</th>\n",
              "      <th>25</th>\n",
              "      <th>26</th>\n",
              "      <th>27</th>\n",
              "      <th>28</th>\n",
              "      <th>29</th>\n",
              "      <th>1</th>\n",
              "      <th>2</th>\n",
              "      <th>3</th>\n",
              "      <th>4</th>\n",
              "      <th>5</th>\n",
              "      <th>6</th>\n",
              "      <th>7</th>\n",
              "      <th>8</th>\n",
              "      <th>9</th>\n",
              "      <th>10</th>\n",
              "      <th>11</th>\n",
              "      <th>12</th>\n",
              "      <th>13</th>\n",
              "      <th>14</th>\n",
              "      <th>15</th>\n",
              "      <th>16</th>\n",
              "      <th>17</th>\n",
              "    </tr>\n",
              "  </thead>\n",
              "  <tbody>\n",
              "    <tr>\n",
              "      <th>count</th>\n",
              "      <td>8534</td>\n",
              "      <td>10314</td>\n",
              "      <td>10735</td>\n",
              "      <td>10446</td>\n",
              "      <td>10454</td>\n",
              "      <td>11396</td>\n",
              "      <td>11666</td>\n",
              "      <td>12148</td>\n",
              "      <td>12497</td>\n",
              "      <td>12809</td>\n",
              "      <td>11919</td>\n",
              "      <td>12762</td>\n",
              "      <td>13495</td>\n",
              "      <td>13971</td>\n",
              "      <td>14445</td>\n",
              "      <td>14911</td>\n",
              "      <td>14962</td>\n",
              "      <td>14073</td>\n",
              "      <td>14404</td>\n",
              "      <td>16523</td>\n",
              "      <td>16534</td>\n",
              "      <td>17318</td>\n",
              "      <td>17288</td>\n",
              "      <td>17867</td>\n",
              "      <td>16496</td>\n",
              "      <td>16949</td>\n",
              "      <td>18378</td>\n",
              "      <td>19253</td>\n",
              "      <td>20519</td>\n",
              "      <td>21038</td>\n",
              "      <td>21095</td>\n",
              "      <td>20603</td>\n",
              "      <td>21947</td>\n",
              "      <td>23522</td>\n",
              "      <td>24165</td>\n",
              "      <td>25578</td>\n",
              "      <td>26626</td>\n",
              "      <td>27647</td>\n",
              "      <td>25962</td>\n",
              "      <td>27640</td>\n",
              "      <td>29985</td>\n",
              "      <td>30524</td>\n",
              "      <td>32058</td>\n",
              "      <td>33844</td>\n",
              "      <td>34369</td>\n",
              "      <td>32445</td>\n",
              "      <td>35045</td>\n",
              "      <td>39042</td>\n",
              "      <td>40733</td>\n",
              "      <td>41680</td>\n",
              "      <td>43937</td>\n",
              "      <td>45452</td>\n",
              "      <td>43938</td>\n",
              "      <td>46074</td>\n",
              "      <td>52053</td>\n",
              "      <td>55242</td>\n",
              "      <td>56136</td>\n",
              "      <td>57875</td>\n",
              "      <td>59951</td>\n",
              "      <td>59614</td>\n",
              "      <td>64374</td>\n",
              "      <td>71111</td>\n",
              "      <td>75353</td>\n",
              "      <td>78271</td>\n",
              "      <td>82409</td>\n",
              "      <td>85191</td>\n",
              "      <td>85003</td>\n",
              "      <td>93511</td>\n",
              "      <td>102549</td>\n",
              "      <td>110423</td>\n",
              "      <td>118846</td>\n",
              "      <td>125360</td>\n",
              "      <td>136477</td>\n",
              "      <td>143342</td>\n",
              "      <td>167112</td>\n",
              "      <td>188435</td>\n",
              "      <td>43093</td>\n",
              "    </tr>\n",
              "  </tbody>\n",
              "</table>\n",
              "</div>"
            ],
            "text/plain": [
              "year   2020                              ...                                       \n",
              "month     1                              ...       3                               \n",
              "day      1      2      3      4      5   ...      13      14      15      16     17\n",
              "count  8534  10314  10735  10446  10454  ...  136477  143342  167112  188435  43093\n",
              "\n",
              "[1 rows x 77 columns]"
            ]
          },
          "metadata": {
            "tags": []
          },
          "execution_count": 8
        }
      ]
    },
    {
      "cell_type": "markdown",
      "metadata": {
        "id": "dPbr2X2EM_0W"
      },
      "source": [
        "## Check missing values"
      ]
    },
    {
      "cell_type": "code",
      "metadata": {
        "id": "94DHZ-bHMpMZ",
        "outputId": "0dfb679a-1e35-4603-90b7-d45bda98ddc4",
        "colab": {
          "base_uri": "https://localhost:8080/",
          "height": 111
        }
      },
      "source": [
        "posts_df.isna().apply(pd.value_counts).fillna(0)"
      ],
      "execution_count": null,
      "outputs": [
        {
          "output_type": "execute_result",
          "data": {
            "text/html": [
              "<div>\n",
              "<style scoped>\n",
              "    .dataframe tbody tr th:only-of-type {\n",
              "        vertical-align: middle;\n",
              "    }\n",
              "\n",
              "    .dataframe tbody tr th {\n",
              "        vertical-align: top;\n",
              "    }\n",
              "\n",
              "    .dataframe thead th {\n",
              "        text-align: right;\n",
              "    }\n",
              "</style>\n",
              "<table border=\"1\" class=\"dataframe\">\n",
              "  <thead>\n",
              "    <tr style=\"text-align: right;\">\n",
              "      <th></th>\n",
              "      <th>id</th>\n",
              "      <th>title</th>\n",
              "      <th>selftext</th>\n",
              "      <th>created_utc</th>\n",
              "      <th>subreddit_id</th>\n",
              "      <th>subreddit_name</th>\n",
              "      <th>date</th>\n",
              "    </tr>\n",
              "  </thead>\n",
              "  <tbody>\n",
              "    <tr>\n",
              "      <th>False</th>\n",
              "      <td>3975156.0</td>\n",
              "      <td>3975151</td>\n",
              "      <td>1990863</td>\n",
              "      <td>3975156.0</td>\n",
              "      <td>3975156.0</td>\n",
              "      <td>3975156.0</td>\n",
              "      <td>3975156.0</td>\n",
              "    </tr>\n",
              "    <tr>\n",
              "      <th>True</th>\n",
              "      <td>0.0</td>\n",
              "      <td>5</td>\n",
              "      <td>1984293</td>\n",
              "      <td>0.0</td>\n",
              "      <td>0.0</td>\n",
              "      <td>0.0</td>\n",
              "      <td>0.0</td>\n",
              "    </tr>\n",
              "  </tbody>\n",
              "</table>\n",
              "</div>"
            ],
            "text/plain": [
              "              id    title  selftext  ...  subreddit_id  subreddit_name       date\n",
              "False  3975156.0  3975151   1990863  ...     3975156.0       3975156.0  3975156.0\n",
              "True         0.0        5   1984293  ...           0.0             0.0        0.0\n",
              "\n",
              "[2 rows x 7 columns]"
            ]
          },
          "metadata": {
            "tags": []
          },
          "execution_count": 9
        }
      ]
    },
    {
      "cell_type": "markdown",
      "metadata": {
        "id": "h8Z2K1H9GnTz"
      },
      "source": [
        "## Check duplicated titles"
      ]
    },
    {
      "cell_type": "code",
      "metadata": {
        "id": "33TggQPsGFFd",
        "outputId": "b5acc876-04db-4d8e-f7f7-b963d84f1c4c",
        "colab": {
          "base_uri": "https://localhost:8080/",
          "height": 391
        }
      },
      "source": [
        "posts_df.groupby(\n",
        "    ['title', 'subreddit_name']\n",
        ").size().sort_values(\n",
        "    ascending=False\n",
        ").head(20)"
      ],
      "execution_count": null,
      "outputs": [
        {
          "output_type": "execute_result",
          "data": {
            "text/plain": [
              "title                      subreddit_name      \n",
              "Is Today Friday the 13th?  IsTodayFridayThe13th    996\n",
              "hmmm                       hmmm                    992\n",
              "2meirl4meirl               2meirl4meirl            823\n",
              "Maybe Maybe Maybe          maybemaybemaybe         721\n",
              "anime_irl                  anime_irl               677\n",
              "absolutelynotme_irl        absolutelynotme_irl     586\n",
              "egg_irl                    egg_irl                 502\n",
              "meirl                      meirl                   402\n",
              "Woof_irl                   woof_irl                385\n",
              "me_irl                     me_irl                  353\n",
              "ik_ihe                     ik_ihe                  306\n",
              "Meirl                      meirl                   278\n",
              "ich_iel                    ich_iel                 273\n",
              "Me_irl                     me_irl                  267\n",
              "Ik_ihe                     ik_ihe                  265\n",
              "Egg_irl                    egg_irl                 254\n",
              "woof_irl                   woof_irl                251\n",
              "Absolutelynotme_irl        absolutelynotme_irl     226\n",
              "Anime_irl                  anime_irl               222\n",
              "gay_irl                    gay_irl                 189\n",
              "dtype: int64"
            ]
          },
          "metadata": {
            "tags": []
          },
          "execution_count": 10
        }
      ]
    },
    {
      "cell_type": "markdown",
      "metadata": {
        "id": "6G4wfwwpVi6k"
      },
      "source": [
        "## Get number of posts per subreddit distribution"
      ]
    },
    {
      "cell_type": "code",
      "metadata": {
        "id": "tPzo6NlACmGI",
        "outputId": "bb650a4e-6f1a-461d-c586-343901f05228",
        "colab": {
          "base_uri": "https://localhost:8080/",
          "height": 282
        }
      },
      "source": [
        "posts_df.groupby(\n",
        "    'subreddit_name'\n",
        ").size().hist()"
      ],
      "execution_count": null,
      "outputs": [
        {
          "output_type": "execute_result",
          "data": {
            "text/plain": [
              "<matplotlib.axes._subplots.AxesSubplot at 0x7fa96a907d68>"
            ]
          },
          "metadata": {
            "tags": []
          },
          "execution_count": 11
        },
        {
          "output_type": "display_data",
          "data": {
            "image/png": "[encoded data removed]",
            "text/plain": [
              "<Figure size 432x288 with 1 Axes>"
            ]
          },
          "metadata": {
            "tags": []
          }
        }
      ]
    },
    {
      "cell_type": "code",
      "metadata": {
        "id": "g4R5vC6SZvUs",
        "outputId": "b673668b-34a9-4e4e-d40b-8f3e43f8ae35",
        "colab": {
          "base_uri": "https://localhost:8080/",
          "height": 295
        }
      },
      "source": [
        "sns.distplot(\n",
        "    predictions_df['p@1'], kde=False\n",
        ").set_title('p@1 histogram')\n",
        "\n",
        "plt.show()"
      ],
      "execution_count": null,
      "outputs": [
        {
          "output_type": "display_data",
          "data": {
            "image/png": "[encoded data removed]",
            "text/plain": [
              "<Figure size 432x288 with 1 Axes>"
            ]
          },
          "metadata": {
            "tags": []
          }
        }
      ]
    },
    {
      "cell_type": "markdown",
      "metadata": {
        "id": "13cQj6DLWflU"
      },
      "source": [
        "# Get precision, recall, f1-score for each subreddit"
      ]
    },
    {
      "cell_type": "code",
      "metadata": {
        "id": "QGitQQK6tQ7u",
        "outputId": "358161b6-2a21-4f3e-d8f9-92981f397874",
        "colab": {
          "base_uri": "https://localhost:8080/",
          "height": 419
        }
      },
      "source": [
        "report_df = pd.DataFrame(classification_report(\n",
        "    predictions_df['label'],\n",
        "    predictions_df['label@1'],\n",
        "    output_dict=True,\n",
        "    zero_division=0\n",
        ")).transpose().reset_index().rename(\n",
        "    columns={'index': 'subreddit'}\n",
        ")\n",
        "\n",
        "report_df.to_csv('classification_report_by_subreddit.csv', index=False)\n",
        "\n",
        "report_df.sort_values('f1-score', ascending=False).head(300)"
      ],
      "execution_count": null,
      "outputs": [
        {
          "output_type": "execute_result",
          "data": {
            "text/html": [
              "<div>\n",
              "<style scoped>\n",
              "    .dataframe tbody tr th:only-of-type {\n",
              "        vertical-align: middle;\n",
              "    }\n",
              "\n",
              "    .dataframe tbody tr th {\n",
              "        vertical-align: top;\n",
              "    }\n",
              "\n",
              "    .dataframe thead th {\n",
              "        text-align: right;\n",
              "    }\n",
              "</style>\n",
              "<table border=\"1\" class=\"dataframe\">\n",
              "  <thead>\n",
              "    <tr style=\"text-align: right;\">\n",
              "      <th></th>\n",
              "      <th>subreddit</th>\n",
              "      <th>precision</th>\n",
              "      <th>recall</th>\n",
              "      <th>f1-score</th>\n",
              "      <th>support</th>\n",
              "    </tr>\n",
              "  </thead>\n",
              "  <tbody>\n",
              "    <tr>\n",
              "      <th>4083</th>\n",
              "      <td>woof_irl</td>\n",
              "      <td>1.000000</td>\n",
              "      <td>1.000000</td>\n",
              "      <td>1.000000</td>\n",
              "      <td>109.0</td>\n",
              "    </tr>\n",
              "    <tr>\n",
              "      <th>1014</th>\n",
              "      <td>IsTodayFridayThe13th</td>\n",
              "      <td>0.991304</td>\n",
              "      <td>1.000000</td>\n",
              "      <td>0.995633</td>\n",
              "      <td>114.0</td>\n",
              "    </tr>\n",
              "    <tr>\n",
              "      <th>2167</th>\n",
              "      <td>anime_irl</td>\n",
              "      <td>0.989474</td>\n",
              "      <td>1.000000</td>\n",
              "      <td>0.994709</td>\n",
              "      <td>94.0</td>\n",
              "    </tr>\n",
              "    <tr>\n",
              "      <th>2920</th>\n",
              "      <td>holdmyfries</td>\n",
              "      <td>1.000000</td>\n",
              "      <td>0.986842</td>\n",
              "      <td>0.993377</td>\n",
              "      <td>76.0</td>\n",
              "    </tr>\n",
              "    <tr>\n",
              "      <th>2242</th>\n",
              "      <td>autotldr</td>\n",
              "      <td>0.989362</td>\n",
              "      <td>0.989362</td>\n",
              "      <td>0.989362</td>\n",
              "      <td>94.0</td>\n",
              "    </tr>\n",
              "    <tr>\n",
              "      <th>...</th>\n",
              "      <td>...</td>\n",
              "      <td>...</td>\n",
              "      <td>...</td>\n",
              "      <td>...</td>\n",
              "      <td>...</td>\n",
              "    </tr>\n",
              "    <tr>\n",
              "      <th>3068</th>\n",
              "      <td>koreanvariety</td>\n",
              "      <td>0.679612</td>\n",
              "      <td>0.760870</td>\n",
              "      <td>0.717949</td>\n",
              "      <td>92.0</td>\n",
              "    </tr>\n",
              "    <tr>\n",
              "      <th>2154</th>\n",
              "      <td>amazon</td>\n",
              "      <td>0.694737</td>\n",
              "      <td>0.741573</td>\n",
              "      <td>0.717391</td>\n",
              "      <td>89.0</td>\n",
              "    </tr>\n",
              "    <tr>\n",
              "      <th>227</th>\n",
              "      <td>Barca</td>\n",
              "      <td>0.693333</td>\n",
              "      <td>0.742857</td>\n",
              "      <td>0.717241</td>\n",
              "      <td>70.0</td>\n",
              "    </tr>\n",
              "    <tr>\n",
              "      <th>111</th>\n",
              "      <td>Animal_Sanctuary</td>\n",
              "      <td>0.724490</td>\n",
              "      <td>0.710000</td>\n",
              "      <td>0.717172</td>\n",
              "      <td>100.0</td>\n",
              "    </tr>\n",
              "    <tr>\n",
              "      <th>426</th>\n",
              "      <td>CompTIA</td>\n",
              "      <td>0.671875</td>\n",
              "      <td>0.767857</td>\n",
              "      <td>0.716667</td>\n",
              "      <td>112.0</td>\n",
              "    </tr>\n",
              "  </tbody>\n",
              "</table>\n",
              "<p>300 rows × 5 columns</p>\n",
              "</div>"
            ],
            "text/plain": [
              "                 subreddit  precision    recall  f1-score  support\n",
              "4083              woof_irl   1.000000  1.000000  1.000000    109.0\n",
              "1014  IsTodayFridayThe13th   0.991304  1.000000  0.995633    114.0\n",
              "2167             anime_irl   0.989474  1.000000  0.994709     94.0\n",
              "2920           holdmyfries   1.000000  0.986842  0.993377     76.0\n",
              "2242              autotldr   0.989362  0.989362  0.989362     94.0\n",
              "...                    ...        ...       ...       ...      ...\n",
              "3068         koreanvariety   0.679612  0.760870  0.717949     92.0\n",
              "2154                amazon   0.694737  0.741573  0.717391     89.0\n",
              "227                  Barca   0.693333  0.742857  0.717241     70.0\n",
              "111       Animal_Sanctuary   0.724490  0.710000  0.717172    100.0\n",
              "426                CompTIA   0.671875  0.767857  0.716667    112.0\n",
              "\n",
              "[300 rows x 5 columns]"
            ]
          },
          "metadata": {
            "tags": []
          },
          "execution_count": 13
        }
      ]
    },
    {
      "cell_type": "code",
      "metadata": {
        "id": "r6SIXJGvRxoA",
        "outputId": "7909f4b0-d736-45f1-8469-6f0273493a74",
        "colab": {
          "base_uri": "https://localhost:8080/",
          "height": 295
        }
      },
      "source": [
        "sns.distplot(\n",
        "    report_df['f1-score'], kde=False\n",
        ").set_title('Subreddit f1-score histogram')\n",
        "\n",
        "plt.show()"
      ],
      "execution_count": null,
      "outputs": [
        {
          "output_type": "display_data",
          "data": {
            "image/png": "[encoded data removed]",
            "text/plain": [
              "<Figure size 432x288 with 1 Axes>"
            ]
          },
          "metadata": {
            "tags": []
          }
        }
      ]
    },
    {
      "cell_type": "markdown",
      "metadata": {
        "id": "Ux5UZLjpWmbN"
      },
      "source": [
        "# Get confusion matrix in long format"
      ]
    },
    {
      "cell_type": "code",
      "metadata": {
        "id": "v90UXIyJWpji",
        "outputId": "fb151325-40e5-4c99-a33b-aee0b7aa8e15",
        "colab": {
          "base_uri": "https://localhost:8080/",
          "height": 359
        }
      },
      "source": [
        "cm = predictions_df.groupby(\n",
        "    ['label', 'label@1']\n",
        ").size().sort_values(ascending=False).reset_index(name='count')\n",
        "\n",
        "cm[cm['count'] > 1].to_csv('confusion_matrix_gt2.csv')\n",
        "\n",
        "cm[cm['label'] != cm['label@1']].head(10)"
      ],
      "execution_count": null,
      "outputs": [
        {
          "output_type": "execute_result",
          "data": {
            "text/html": [
              "<div>\n",
              "<style scoped>\n",
              "    .dataframe tbody tr th:only-of-type {\n",
              "        vertical-align: middle;\n",
              "    }\n",
              "\n",
              "    .dataframe tbody tr th {\n",
              "        vertical-align: top;\n",
              "    }\n",
              "\n",
              "    .dataframe thead th {\n",
              "        text-align: right;\n",
              "    }\n",
              "</style>\n",
              "<table border=\"1\" class=\"dataframe\">\n",
              "  <thead>\n",
              "    <tr style=\"text-align: right;\">\n",
              "      <th></th>\n",
              "      <th>label</th>\n",
              "      <th>label@1</th>\n",
              "      <th>count</th>\n",
              "    </tr>\n",
              "  </thead>\n",
              "  <tbody>\n",
              "    <tr>\n",
              "      <th>125</th>\n",
              "      <td>ModelsGoneMild</td>\n",
              "      <td>ClassyPornstars</td>\n",
              "      <td>83</td>\n",
              "    </tr>\n",
              "    <tr>\n",
              "      <th>1292</th>\n",
              "      <td>bipolar</td>\n",
              "      <td>BipolarReddit</td>\n",
              "      <td>50</td>\n",
              "    </tr>\n",
              "    <tr>\n",
              "      <th>1328</th>\n",
              "      <td>carnivore</td>\n",
              "      <td>zerocarb</td>\n",
              "      <td>49</td>\n",
              "    </tr>\n",
              "    <tr>\n",
              "      <th>1474</th>\n",
              "      <td>Needafriend</td>\n",
              "      <td>MakeNewFriendsHere</td>\n",
              "      <td>47</td>\n",
              "    </tr>\n",
              "    <tr>\n",
              "      <th>1512</th>\n",
              "      <td>me_irl</td>\n",
              "      <td>meirl</td>\n",
              "      <td>46</td>\n",
              "    </tr>\n",
              "    <tr>\n",
              "      <th>1567</th>\n",
              "      <td>qBittorrent</td>\n",
              "      <td>torrents</td>\n",
              "      <td>46</td>\n",
              "    </tr>\n",
              "    <tr>\n",
              "      <th>1801</th>\n",
              "      <td>FreeGamesOnSteam</td>\n",
              "      <td>FreeGameFindings</td>\n",
              "      <td>42</td>\n",
              "    </tr>\n",
              "    <tr>\n",
              "      <th>1961</th>\n",
              "      <td>SwitchHaxing</td>\n",
              "      <td>SwitchHacks</td>\n",
              "      <td>40</td>\n",
              "    </tr>\n",
              "    <tr>\n",
              "      <th>2041</th>\n",
              "      <td>SSAwakening</td>\n",
              "      <td>SaintSeiyaKOTZ</td>\n",
              "      <td>39</td>\n",
              "    </tr>\n",
              "    <tr>\n",
              "      <th>2073</th>\n",
              "      <td>PAXvapor</td>\n",
              "      <td>ploompax</td>\n",
              "      <td>39</td>\n",
              "    </tr>\n",
              "  </tbody>\n",
              "</table>\n",
              "</div>"
            ],
            "text/plain": [
              "                 label             label@1  count\n",
              "125     ModelsGoneMild     ClassyPornstars     83\n",
              "1292           bipolar       BipolarReddit     50\n",
              "1328         carnivore            zerocarb     49\n",
              "1474       Needafriend  MakeNewFriendsHere     47\n",
              "1512            me_irl               meirl     46\n",
              "1567       qBittorrent            torrents     46\n",
              "1801  FreeGamesOnSteam    FreeGameFindings     42\n",
              "1961      SwitchHaxing         SwitchHacks     40\n",
              "2041       SSAwakening      SaintSeiyaKOTZ     39\n",
              "2073          PAXvapor            ploompax     39"
            ]
          },
          "metadata": {
            "tags": []
          },
          "execution_count": 15
        }
      ]
    },
    {
      "cell_type": "markdown",
      "metadata": {
        "id": "Dx3gmKy0csGN"
      },
      "source": [
        "# Get metrics distribution by probability"
      ]
    },
    {
      "cell_type": "code",
      "metadata": {
        "id": "EVYt8rUESro6"
      },
      "source": [
        "p_f1_df = predictions_df.assign(\n",
        "    p=lambda x: x['p@1'].apply(lambda x: round(x, 2))\n",
        ").groupby('p').apply(\n",
        "    lambda x: f1_score(x['label'], x['label@1'], average='micro')\n",
        ").reset_index(name='f1_score').rename(columns={'p': 'p@1'})"
      ],
      "execution_count": null,
      "outputs": []
    },
    {
      "cell_type": "code",
      "metadata": {
        "id": "XyM4mjFzyunb"
      },
      "source": [
        "sns.lineplot(\n",
        "    x=p_f1_df['p@1'], y=p_f1_df['f1_score']\n",
        ").set_title('p@1 vs f1-score')\n",
        "\n",
        "sns.lineplot(x=[0, 1], y=[0, 1], lw=1, color=\"grey\")\n",
        "\n",
        "plt.xlim(0, 1)\n",
        "plt.ylim(0, 1)\n",
        "plt.show()"
      ],
      "execution_count": null,
      "outputs": []
    },
    {
      "cell_type": "markdown",
      "metadata": {
        "id": "gZtXH_5BY5_g"
      },
      "source": [
        "# Get precision@k, recall@k, f1-score@k for all k={1...20}"
      ]
    },
    {
      "cell_type": "code",
      "metadata": {
        "id": "pE74uwpBMPSs"
      },
      "source": [],
      "execution_count": null,
      "outputs": []
    }
  ]
}